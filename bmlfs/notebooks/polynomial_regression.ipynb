{
 "cells": [
  {
   "cell_type": "code",
   "execution_count": null,
   "id": "71c84ae2",
   "metadata": {},
   "outputs": [],
   "source": [
    "import math\n",
    "import argparse\n",
    "import os"
   ]
  },
  {
   "cell_type": "code",
   "execution_count": null,
   "id": "19ed5bad",
   "metadata": {},
   "outputs": [],
   "source": [
    "import matplotlib.pyplot as plt\n",
    "import numpy as np\n",
    "import pandas as pd\n",
    "from sklearn.datasets import make_regression"
   ]
  },
  {
   "cell_type": "code",
   "execution_count": null,
   "id": "49062c80",
   "metadata": {
    "lines_to_next_cell": 2
   },
   "outputs": [],
   "source": [
    "from bmlfs.supervised_learning.regression import PolynomialRegression, PolynomialRidgeRegression\n",
    "from bmlfs.utils.data_operation import mean_squared_error, train_test_split\n",
    "from bmlfs.utils.data_manipulation import k_fold_cross_validation_sets"
   ]
  },
  {
   "cell_type": "code",
   "execution_count": null,
   "id": "e6ebad10",
   "metadata": {},
   "outputs": [],
   "source": [
    "## Hyperparameters\n",
    "SEED=42\n",
    "GRADIENT = False\n",
    "N_ITERATIONS = 100000\n",
    "LEARNING_RATE = 0.1\n",
    "DEGREE = 15\n",
    "N_FOLD = 5\n",
    "REGULARIZE = False\n",
    "REG_RANGE = [0, 0.1, 0.01]"
   ]
  },
  {
   "cell_type": "code",
   "execution_count": null,
   "id": "61b18a83",
   "metadata": {},
   "outputs": [],
   "source": [
    "## Import data\n",
    "dir_name = os.path.dirname(__file__)\n",
    "data = pd.read_csv(os.path.join(dir_name, '../data/TempLinkoping2016.txt'), sep=\"\\t\")"
   ]
  },
  {
   "cell_type": "code",
   "execution_count": null,
   "id": "b7b43868",
   "metadata": {},
   "outputs": [],
   "source": [
    "time = np.atleast_2d(data['time'].values).T\n",
    "temp = data['temp'].values"
   ]
  },
  {
   "cell_type": "code",
   "execution_count": null,
   "id": "1eed4845",
   "metadata": {},
   "outputs": [],
   "source": [
    "X = time\n",
    "y = temp"
   ]
  },
  {
   "cell_type": "code",
   "execution_count": null,
   "id": "f340b4ac",
   "metadata": {},
   "outputs": [],
   "source": [
    "## Split data\n",
    "X_train, X_test, y_train, y_test = train_test_split(X, y, test_size=0.4, seed=SEED)"
   ]
  },
  {
   "cell_type": "code",
   "execution_count": null,
   "id": "b035f271",
   "metadata": {},
   "outputs": [],
   "source": [
    "## Model\n",
    "if REGULARIZE:\n",
    "    # Finding regularization constant using cross validation\n",
    "    # TODO: Implement GridSearch\n",
    "    lowest_mse = float(\"inf\")\n",
    "    best_reg_factor = None\n",
    "    print(\"Finding regularization constant using cross validation\")\n",
    "    for reg_factor in np.arange(*REG_RANGE):\n",
    "        cross_validation_sets = k_fold_cross_validation_sets(X_train, y_train, n_fold=N_FOLD)\n",
    "        mse = 0\n",
    "        for _X_train, _X_test, _y_train, _y_test in cross_validation_sets:\n",
    "            model = PolynomialRidgeRegression(degree=DEGREE, reg_factor=reg_factor, lr=LEARNING_RATE, n_iter=N_ITERATIONS)\n",
    "            model.fit(_X_train, _y_train)\n",
    "            y_pred = model.predict(_X_test)\n",
    "            _mse = mean_squared_error(_y_test, y_pred)\n",
    "            mse += _mse\n",
    "        mse /= N_FOLD\n",
    "\n",
    "        # Print the mean squared error\n",
    "        print(\"\\tMSE: %.2f @ Reg: %.2f\" % (mse, reg_factor))\n",
    "\n",
    "        # Save regularization factor that gave the lowest error\n",
    "        if mse < lowest_mse:\n",
    "            best_reg_factor = reg_factor\n",
    "            lowest_mse = mse\n",
    "\n",
    "    # Make final prediction\n",
    "    model = PolynomialRidgeRegression(degree=DEGREE, reg_factor=best_reg_factor, lr=LEARNING_RATE, n_iter=N_ITERATIONS)\n",
    "\n",
    "    model.fit(X_train, y_train)\n",
    "    y_pred = model.predict(X_test)\n",
    "    mse = mean_squared_error(y_test, y_pred)\n",
    "    print(\"Bmlfs Valid \\tMSE: %.2f @ Reg: %.2f\" % (mse, best_reg_factor))\n",
    "else:\n",
    "    model = PolynomialRegression(degree=DEGREE, lr=LEARNING_RATE, n_iter=N_ITERATIONS, gradient_descent=GRADIENT)\n",
    "    model.fit(X_train, y_train)\n",
    "    y_pred = model.predict(X_test)\n",
    "    mse = mean_squared_error(y_test, y_pred)\n",
    "    print(\"Bmlfs Valid \\tMSE: %.2f\" % mse)"
   ]
  },
  {
   "cell_type": "code",
   "execution_count": null,
   "id": "f2259556",
   "metadata": {},
   "outputs": [],
   "source": [
    "## Predict\n",
    "y_pred_line = model.predict(X)"
   ]
  },
  {
   "cell_type": "code",
   "execution_count": null,
   "id": "90d05d0d",
   "metadata": {},
   "outputs": [],
   "source": [
    "## Plot the results\n",
    "cmap = plt.get_cmap('viridis') # Color map\n",
    "m1 = plt.scatter(len(time) * X_train, y_train, color=cmap(0.9), s=10)\n",
    "m2 = plt.scatter(len(time) * X_test, y_test, color=cmap(0.5), s=10)\n",
    "plt.plot(len(time) * X, y_pred_line, color='green', linewidth=2, label=\"Prediction\")\n",
    "plt.suptitle(\"Polynomial Ridge Regression\")\n",
    "plt.title(\"MSE: %.2f\" % mse, fontsize=10)\n",
    "plt.xlabel('Day')\n",
    "plt.ylabel('Temperature in Celcius')\n",
    "plt.legend((m1, m2), (\"Training data\", \"Test data\"), loc='lower right')\n",
    "plt.show()"
   ]
  },
  {
   "cell_type": "code",
   "execution_count": null,
   "id": "ce37ca0e",
   "metadata": {
    "lines_to_next_cell": 2
   },
   "outputs": [],
   "source": [
    "## Sklearn MSE: 11.36\n",
    "import sklearn as sk\n",
    "from sklearn.linear_model import LinearRegression\n",
    "from sklearn.preprocessing import PolynomialFeatures\n",
    "from sklearn.pipeline import Pipeline"
   ]
  },
  {
   "cell_type": "code",
   "execution_count": null,
   "id": "4eb01781",
   "metadata": {},
   "outputs": [],
   "source": [
    "model = Pipeline([('poly', PolynomialFeatures(degree=DEGREE)),\n",
    "                ('linear', LinearRegression(fit_intercept=False))])\n",
    "model.fit(X_train, y_train)"
   ]
  },
  {
   "cell_type": "code",
   "execution_count": null,
   "id": "789d9dae",
   "metadata": {},
   "outputs": [],
   "source": [
    "y_pred = model.predict(X_test)\n",
    "mse = sk.metrics.mean_squared_error(y_test, y_pred)\n",
    "print(\"Sklearn Valid \\tMSE: %.2f\" % mse)"
   ]
  }
 ],
 "metadata": {
  "jupytext": {
   "cell_metadata_filter": "-all",
   "main_language": "python",
   "notebook_metadata_filter": "-all"
  }
 },
 "nbformat": 4,
 "nbformat_minor": 5
}
