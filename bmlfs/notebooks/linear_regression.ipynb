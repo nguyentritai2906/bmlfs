{
 "cells": [
  {
   "cell_type": "code",
   "execution_count": null,
   "id": "228809e7",
   "metadata": {},
   "outputs": [],
   "source": [
    "import matplotlib.pyplot as plt\n",
    "from sklearn.datasets import make_regression\n",
    "from bmlfs.supervised_learning.regression import LinearRegression\n",
    "from bmlfs.utils.data_operation import mean_squared_error, train_test_split"
   ]
  },
  {
   "cell_type": "code",
   "execution_count": null,
   "id": "0b4b3512",
   "metadata": {},
   "outputs": [],
   "source": [
    "## Hyperparameters\n",
    "SEED = 42\n",
    "GRADIENT = True\n",
    "EPOCH = 300\n",
    "LEARNING_RATE = 0.01"
   ]
  },
  {
   "cell_type": "code",
   "execution_count": null,
   "id": "20451145",
   "metadata": {},
   "outputs": [],
   "source": [
    "## Make dataset\n",
    "X, y = make_regression(n_samples=100,\n",
    "                        n_features=1,\n",
    "                        noise=20,\n",
    "                        random_state=SEED)"
   ]
  },
  {
   "cell_type": "code",
   "execution_count": null,
   "id": "09aa6a07",
   "metadata": {},
   "outputs": [],
   "source": [
    "## Split dataset\n",
    "X_train, X_test, y_train, y_test = train_test_split(X,\n",
    "                                                    y,\n",
    "                                                    test_size=0.4,\n",
    "                                                    seed=SEED)"
   ]
  },
  {
   "cell_type": "code",
   "execution_count": null,
   "id": "caeade24",
   "metadata": {},
   "outputs": [],
   "source": [
    "## Define model\n",
    "model = LinearRegression(n_iter=EPOCH,\n",
    "                            lr=LEARNING_RATE,\n",
    "                            gradient_descent=GRADIENT)"
   ]
  },
  {
   "cell_type": "code",
   "execution_count": null,
   "id": "6183699b",
   "metadata": {},
   "outputs": [],
   "source": [
    "model.fit(X_train, y_train)"
   ]
  },
  {
   "cell_type": "code",
   "execution_count": null,
   "id": "aebdbb2e",
   "metadata": {},
   "outputs": [],
   "source": [
    "## Plot training_errors\n",
    "if GRADIENT:\n",
    "    # Training error plot\n",
    "    n = len(model.training_errors)\n",
    "    training, = plt.plot(range(n),\n",
    "                            model.training_errors,\n",
    "                            label=\"Training Error\")\n",
    "    plt.legend(handles=[training])\n",
    "    plt.title(\"Error Plot\")\n",
    "    plt.ylabel('Mean Squared Error')\n",
    "    plt.xlabel('Iterations')\n",
    "    plt.show()"
   ]
  },
  {
   "cell_type": "code",
   "execution_count": null,
   "id": "15663b0a",
   "metadata": {},
   "outputs": [],
   "source": [
    "## Predict X_test\n",
    "y_pred = model.predict(X_test)\n",
    "mse = mean_squared_error(y_test, y_pred)\n",
    "print(\"Bmlfs Mean squared error: %s\" % (mse))"
   ]
  },
  {
   "cell_type": "code",
   "execution_count": null,
   "id": "3ce75061",
   "metadata": {},
   "outputs": [],
   "source": [
    "y_pred_line = model.predict(X)"
   ]
  },
  {
   "cell_type": "code",
   "execution_count": null,
   "id": "8bba6edd",
   "metadata": {},
   "outputs": [],
   "source": [
    "## Plot the results\n",
    "cmap = plt.get_cmap('viridis') # Color map\n",
    "m1 = plt.scatter(366 * X_train, y_train, color=cmap(0.9), s=10)\n",
    "m2 = plt.scatter(366 * X_test, y_test, color=cmap(0.5), s=10)\n",
    "plt.plot(366 * X,\n",
    "            y_pred_line,\n",
    "            color='black',\n",
    "            linewidth=2,\n",
    "            label=\"Prediction\")\n",
    "plt.suptitle(\"Linear Regression\")\n",
    "plt.title(\"MSE: %.2f\" % mse, fontsize=10)\n",
    "plt.xlabel('Day')\n",
    "plt.ylabel('Temperature in Celcius')\n",
    "plt.legend((m1, m2), (\"Training data\", \"Test data\"), loc='lower right')\n",
    "plt.show()"
   ]
  },
  {
   "cell_type": "code",
   "execution_count": null,
   "id": "85d54151",
   "metadata": {},
   "outputs": [],
   "source": [
    "## Sklearn MSE: 350.3629\n",
    "import sklearn as sk\n",
    "from sklearn.linear_model import LinearRegression"
   ]
  },
  {
   "cell_type": "code",
   "execution_count": null,
   "id": "177ec999",
   "metadata": {},
   "outputs": [],
   "source": [
    "model = LinearRegression()\n",
    "model.fit(X_train, y_train)\n",
    "y_pred = model.predict(X_test)\n",
    "mse = sk.metrics.mean_squared_error(y_test, y_pred)\n",
    "print(\"Sklearn Mean squared error: %s\" % (mse))"
   ]
  }
 ],
 "metadata": {
  "jupytext": {
   "cell_metadata_filter": "-all",
   "main_language": "python",
   "notebook_metadata_filter": "-all"
  }
 },
 "nbformat": 4,
 "nbformat_minor": 5
}
