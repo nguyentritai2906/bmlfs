{
 "cells": [
  {
   "cell_type": "code",
   "execution_count": null,
   "id": "7b928102",
   "metadata": {
    "lines_to_next_cell": 2
   },
   "outputs": [],
   "source": [
    "import numpy as np\n",
    "import math\n",
    "import matplotlib.pyplot as plt\n",
    "from bmlfs.utils import make_diagonal, normalize, train_test_split, accuracy_score\n",
    "from bmlfs.deep_learning import Sigmoid\n",
    "from bmlfs.supervised_learning import LogisticRegression\n",
    "from sklearn import datasets"
   ]
  },
  {
   "cell_type": "code",
   "execution_count": null,
   "id": "2284ba87",
   "metadata": {},
   "outputs": [],
   "source": [
    "## Hyperparameters\n",
    "SEED = 42"
   ]
  },
  {
   "cell_type": "code",
   "execution_count": null,
   "id": "e7eb97a0",
   "metadata": {},
   "outputs": [],
   "source": [
    "## Load dataset\n",
    "iris = datasets.load_iris()\n",
    "X = iris.data[:, 3:]  # petal width\n",
    "y = (iris.target == 2).astype(int)"
   ]
  },
  {
   "cell_type": "code",
   "execution_count": null,
   "id": "ac02b105",
   "metadata": {},
   "outputs": [],
   "source": [
    "## Split dataset\n",
    "X_train, X_test, y_train, y_test = train_test_split(X, y, test_size=0.333, seed=SEED)"
   ]
  },
  {
   "cell_type": "code",
   "execution_count": null,
   "id": "9ca9514d",
   "metadata": {},
   "outputs": [],
   "source": [
    "## Define model\n",
    "model = LogisticRegression()\n",
    "model.fit(X_train, y_train)\n",
    "y_pred = model.predict(X_test)"
   ]
  },
  {
   "cell_type": "code",
   "execution_count": null,
   "id": "5799e926",
   "metadata": {},
   "outputs": [],
   "source": [
    "## Calculate accuracy\n",
    "accuracy = accuracy_score(y_test, y_pred)\n",
    "print(\"Bmlfs Accuracy: \", accuracy)"
   ]
  },
  {
   "cell_type": "code",
   "execution_count": null,
   "id": "a550ee6c",
   "metadata": {},
   "outputs": [],
   "source": [
    "## Predict [1, 0]\n",
    "X_new = np.array([[1.7], [1.5]])\n",
    "print(\"Bmlfs Predict: \", model.predict(X_new))\n",
    "print(\"Bmlfs Predict probability: \")\n",
    "print(model.predict_proba(X_new))"
   ]
  },
  {
   "cell_type": "code",
   "execution_count": null,
   "id": "114af10a",
   "metadata": {},
   "outputs": [],
   "source": [
    "## Sklearn Accuracy: 0.98\n",
    "import sklearn as sk\n",
    "from sklearn.linear_model import LogisticRegression"
   ]
  },
  {
   "cell_type": "code",
   "execution_count": null,
   "id": "a75f91c2",
   "metadata": {},
   "outputs": [],
   "source": [
    "model = LogisticRegression(random_state=SEED)\n",
    "model.fit(X_train,y_train)\n",
    "y_pred = model.predict(X_test)\n",
    "print(\"\\nSklearn Accuracy: \", sk.metrics.accuracy_score(y_test, y_pred))\n",
    "print(\"Sklearn Predict: \", model.predict(X_new))\n",
    "print(\"Sklearn Predict probability: \")\n",
    "print(model.predict_proba(X_new))"
   ]
  }
 ],
 "metadata": {
  "jupytext": {
   "cell_metadata_filter": "-all",
   "main_language": "python",
   "notebook_metadata_filter": "-all"
  }
 },
 "nbformat": 4,
 "nbformat_minor": 5
}
